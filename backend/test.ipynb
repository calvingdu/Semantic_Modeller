{
 "cells": [
  {
   "cell_type": "code",
   "execution_count": 16,
   "metadata": {},
   "outputs": [
    {
     "name": "stderr",
     "output_type": "stream",
     "text": [
      "/Users/calvindu/miniconda3/lib/python3.11/site-packages/transformers/tokenization_utils_base.py:1601: FutureWarning: `clean_up_tokenization_spaces` was not set. It will be set to `True` by default. This behavior will be depracted in transformers v4.45, and will be then set to `False` by default. For more details check this issue: https://github.com/huggingface/transformers/issues/31884\n",
      "  warnings.warn(\n"
     ]
    }
   ],
   "source": [
    "from model import SemanticModel\n",
    "\n",
    "# Example usage\n",
    "if __name__ == \"__main__\":\n",
    "    # PDF file paths (you can add multiple paths here)\n",
    "    pdf_paths = ['/Users/calvindu/School/Projects/PDF_Semantic_Modeller/backend/test_data/2210.05189v3.pdf']\n",
    "    \n",
    "    # List of user-provided topics to analyze\n",
    "    user_topics = ['machine learning', 'neural networks', 'decision trees']\n",
    "    \n",
    "    model = SemanticModel()\n",
    "    results = model.semantic_modeling(pdf_paths, user_topics)\n",
    "    \n",
    "    # Print results    \n",
    "    if not results:\n",
    "        print(\"No relevant passages found for the given topics.\")\n",
    "    else:\n",
    "        for topic_result in results:\n",
    "            print(f\"\\nTopic: {topic_result['topic']}\")\n",
    "            print(\"-\" * 30)\n",
    "            if not topic_result['similar_passages']:\n",
    "                print(\"  No relevant passages found for this topic.\")\n",
    "            else:\n",
    "                for i, passage in enumerate(topic_result['similar_passages'], 1):\n",
    "                    print(f\"  Passage {i}:\")\n",
    "                    print(f\"    Score: {passage['score']:.4f}\")\n",
    "                    print(f\"    Document: {passage['document']}\")\n",
    "                    print(f\"    Text: {passage['text'][:200]}...\")  # Print first 200 characters\n",
    "            print()\n",
    "    \n",
    "    print(\"\\nAnalysis Complete.\")"
   ]
  }
 ],
 "metadata": {
  "kernelspec": {
   "display_name": "base",
   "language": "python",
   "name": "python3"
  },
  "language_info": {
   "codemirror_mode": {
    "name": "ipython",
    "version": 3
   },
   "file_extension": ".py",
   "mimetype": "text/x-python",
   "name": "python",
   "nbconvert_exporter": "python",
   "pygments_lexer": "ipython3",
   "version": "3.11.6"
  }
 },
 "nbformat": 4,
 "nbformat_minor": 2
}
